{
 "cells": [
  {
   "cell_type": "code",
   "execution_count": 1,
   "id": "cd585ece",
   "metadata": {
    "executionInfo": {
     "elapsed": 4430,
     "status": "ok",
     "timestamp": 1697798321922,
     "user": {
      "displayName": "Yaroslav Tereschenko",
      "userId": "02603286809497678632"
     },
     "user_tz": -180
    },
    "id": "cd585ece"
   },
   "outputs": [],
   "source": [
    "import random\n",
    "import matplotlib.pyplot as plt\n",
    "from matplotlib.patches import Circle\n",
    "from matplotlib.lines import Line2D\n",
    "\n",
    "import tensorflow as tf\n",
    "import numpy as np\n",
    "import matplotlib.pyplot as plt"
   ]
  },
  {
   "cell_type": "markdown",
   "id": "ab69c70d",
   "metadata": {
    "id": "ab69c70d"
   },
   "source": [
    "### Підготовка та тренування моделі"
   ]
  },
  {
   "cell_type": "code",
   "execution_count": 2,
   "id": "defcfecf",
   "metadata": {
    "executionInfo": {
     "elapsed": 9,
     "status": "ok",
     "timestamp": 1697798321924,
     "user": {
      "displayName": "Yaroslav Tereschenko",
      "userId": "02603286809497678632"
     },
     "user_tz": -180
    },
    "id": "defcfecf"
   },
   "outputs": [],
   "source": [
    "(x_train, y_train), (x_test, y_test) = tf.keras.datasets.mnist.load_data()"
   ]
  },
  {
   "cell_type": "code",
   "execution_count": 3,
   "id": "338e79b7",
   "metadata": {
    "executionInfo": {
     "elapsed": 8,
     "status": "ok",
     "timestamp": 1697798321924,
     "user": {
      "displayName": "Yaroslav Tereschenko",
      "userId": "02603286809497678632"
     },
     "user_tz": -180
    },
    "id": "338e79b7"
   },
   "outputs": [],
   "source": [
    "x_train = x_train / 255.0\n",
    "x_test = x_test / 255.0"
   ]
  },
  {
   "cell_type": "code",
   "execution_count": 4,
   "id": "574968a4",
   "metadata": {
    "executionInfo": {
     "elapsed": 1461,
     "status": "ok",
     "timestamp": 1697798323379,
     "user": {
      "displayName": "Yaroslav Tereschenko",
      "userId": "02603286809497678632"
     },
     "user_tz": -180
    },
    "id": "574968a4"
   },
   "outputs": [],
   "source": [
    "model = tf.keras.Sequential([\n",
    "    tf.keras.layers.Conv2D(32, (3, 3), activation='relu', input_shape=(28, 28, 1)),\n",
    "    tf.keras.layers.MaxPooling2D((2, 2)),\n",
    "    tf.keras.layers.Conv2D(64, (3, 3), activation='relu'),\n",
    "    tf.keras.layers.MaxPooling2D((2, 2)),\n",
    "    tf.keras.layers.Conv2D(64, (3, 3), activation='relu'),\n",
    "    tf.keras.layers.Flatten(),\n",
    "    tf.keras.layers.Dense(64, activation='relu'),\n",
    "    tf.keras.layers.Dense(10, activation='softmax')\n",
    "])"
   ]
  },
  {
   "cell_type": "code",
   "execution_count": 5,
   "id": "eb63d5d9",
   "metadata": {
    "executionInfo": {
     "elapsed": 22,
     "status": "ok",
     "timestamp": 1697798323380,
     "user": {
      "displayName": "Yaroslav Tereschenko",
      "userId": "02603286809497678632"
     },
     "user_tz": -180
    },
    "id": "eb63d5d9"
   },
   "outputs": [],
   "source": [
    "model.compile(\n",
    "    optimizer='adam',\n",
    "    loss='sparse_categorical_crossentropy',\n",
    "    metrics=['accuracy']\n",
    ")"
   ]
  },
  {
   "cell_type": "code",
   "execution_count": 6,
   "id": "f25066ae",
   "metadata": {
    "colab": {
     "base_uri": "https://localhost:8080/"
    },
    "executionInfo": {
     "elapsed": 20,
     "status": "ok",
     "timestamp": 1697798323380,
     "user": {
      "displayName": "Yaroslav Tereschenko",
      "userId": "02603286809497678632"
     },
     "user_tz": -180
    },
    "id": "f25066ae",
    "outputId": "f09467c3-d66a-4967-899f-64b74c9191b6"
   },
   "outputs": [
    {
     "name": "stdout",
     "output_type": "stream",
     "text": [
      "Model: \"sequential\"\n",
      "_________________________________________________________________\n",
      " Layer (type)                Output Shape              Param #   \n",
      "=================================================================\n",
      " conv2d (Conv2D)             (None, 26, 26, 32)        320       \n",
      "                                                                 \n",
      " max_pooling2d (MaxPooling2  (None, 13, 13, 32)        0         \n",
      " D)                                                              \n",
      "                                                                 \n",
      " conv2d_1 (Conv2D)           (None, 11, 11, 64)        18496     \n",
      "                                                                 \n",
      " max_pooling2d_1 (MaxPoolin  (None, 5, 5, 64)          0         \n",
      " g2D)                                                            \n",
      "                                                                 \n",
      " conv2d_2 (Conv2D)           (None, 3, 3, 64)          36928     \n",
      "                                                                 \n",
      " flatten (Flatten)           (None, 576)               0         \n",
      "                                                                 \n",
      " dense (Dense)               (None, 64)                36928     \n",
      "                                                                 \n",
      " dense_1 (Dense)             (None, 10)                650       \n",
      "                                                                 \n",
      "=================================================================\n",
      "Total params: 93322 (364.54 KB)\n",
      "Trainable params: 93322 (364.54 KB)\n",
      "Non-trainable params: 0 (0.00 Byte)\n",
      "_________________________________________________________________\n"
     ]
    }
   ],
   "source": [
    "model.summary()"
   ]
  },
  {
   "cell_type": "code",
   "execution_count": 7,
   "id": "5ae03db8",
   "metadata": {
    "colab": {
     "base_uri": "https://localhost:8080/"
    },
    "executionInfo": {
     "elapsed": 100446,
     "status": "ok",
     "timestamp": 1697798423819,
     "user": {
      "displayName": "Yaroslav Tereschenko",
      "userId": "02603286809497678632"
     },
     "user_tz": -180
    },
    "id": "5ae03db8",
    "outputId": "5ac2a173-ac05-4d94-8f8b-8222a8cad83b"
   },
   "outputs": [
    {
     "name": "stdout",
     "output_type": "stream",
     "text": [
      "Epoch 1/10\n",
      "1875/1875 [==============================] - 23s 9ms/step - loss: 0.1474 - accuracy: 0.9543 - val_loss: 0.0483 - val_accuracy: 0.9854\n",
      "Epoch 2/10\n",
      "1875/1875 [==============================] - 8s 4ms/step - loss: 0.0455 - accuracy: 0.9860 - val_loss: 0.0350 - val_accuracy: 0.9899\n",
      "Epoch 3/10\n",
      "1875/1875 [==============================] - 9s 5ms/step - loss: 0.0330 - accuracy: 0.9899 - val_loss: 0.0372 - val_accuracy: 0.9882\n",
      "Epoch 4/10\n",
      "1875/1875 [==============================] - 9s 5ms/step - loss: 0.0238 - accuracy: 0.9926 - val_loss: 0.0352 - val_accuracy: 0.9886\n",
      "Epoch 5/10\n",
      "1875/1875 [==============================] - 9s 5ms/step - loss: 0.0205 - accuracy: 0.9936 - val_loss: 0.0261 - val_accuracy: 0.9922\n",
      "Epoch 6/10\n",
      "1875/1875 [==============================] - 9s 5ms/step - loss: 0.0161 - accuracy: 0.9951 - val_loss: 0.0348 - val_accuracy: 0.9900\n",
      "Epoch 7/10\n",
      "1875/1875 [==============================] - 9s 5ms/step - loss: 0.0124 - accuracy: 0.9960 - val_loss: 0.0524 - val_accuracy: 0.9865\n",
      "Epoch 8/10\n",
      "1875/1875 [==============================] - 8s 5ms/step - loss: 0.0119 - accuracy: 0.9962 - val_loss: 0.0483 - val_accuracy: 0.9860\n",
      "Epoch 9/10\n",
      "1875/1875 [==============================] - 8s 4ms/step - loss: 0.0101 - accuracy: 0.9968 - val_loss: 0.0344 - val_accuracy: 0.9909\n",
      "Epoch 10/10\n",
      "1875/1875 [==============================] - 9s 5ms/step - loss: 0.0083 - accuracy: 0.9973 - val_loss: 0.0353 - val_accuracy: 0.9920\n"
     ]
    }
   ],
   "source": [
    "history = model.fit(x_train, y_train, epochs=10, validation_data=(x_test, y_test))"
   ]
  },
  {
   "cell_type": "code",
   "execution_count": 8,
   "id": "bd030973",
   "metadata": {
    "executionInfo": {
     "elapsed": 14,
     "status": "ok",
     "timestamp": 1697798423820,
     "user": {
      "displayName": "Yaroslav Tereschenko",
      "userId": "02603286809497678632"
     },
     "user_tz": -180
    },
    "id": "bd030973"
   },
   "outputs": [],
   "source": [
    "def plot_metric(train_data, test_data, label):\n",
    "    plt.plot(train_data, label=f'train {label}')\n",
    "    plt.plot(test_data, label=f'test {label}')\n",
    "    plt.title(f'Training & Validation {label}')\n",
    "    plt.xlabel('epoch')\n",
    "    plt.ylabel('value')\n",
    "    plt.grid()\n",
    "    plt.legend()\n",
    "    plt.show()"
   ]
  },
  {
   "cell_type": "code",
   "execution_count": 9,
   "id": "6e882b4a",
   "metadata": {
    "colab": {
     "base_uri": "https://localhost:8080/",
     "height": 472
    },
    "executionInfo": {
     "elapsed": 1188,
     "status": "ok",
     "timestamp": 1697798424998,
     "user": {
      "displayName": "Yaroslav Tereschenko",
      "userId": "02603286809497678632"
     },
     "user_tz": -180
    },
    "id": "6e882b4a",
    "outputId": "19db0eff-e411-4668-8b8b-fef50ba02058"
   },
   "outputs": [
    {
     "data": {
      "image/png": "[encoded data removed]",
      "text/plain": [
       "<Figure size 640x480 with 1 Axes>"
      ]
     },
     "metadata": {},
     "output_type": "display_data"
    }
   ],
   "source": [
    "plot_metric(history.history['loss'], history.history['val_loss'], 'loss')"
   ]
  },
  {
   "cell_type": "code",
   "execution_count": 10,
   "id": "689d83df",
   "metadata": {
    "colab": {
     "base_uri": "https://localhost:8080/",
     "height": 472
    },
    "executionInfo": {
     "elapsed": 14,
     "status": "ok",
     "timestamp": 1697798424999,
     "user": {
      "displayName": "Yaroslav Tereschenko",
      "userId": "02603286809497678632"
     },
     "user_tz": -180
    },
    "id": "689d83df",
    "outputId": "07068d04-73fa-4430-bf20-f00e34bf7956"
   },
   "outputs": [
    {
     "data": {
      "image/png": "[encoded data removed]",
      "text/plain": [
       "<Figure size 640x480 with 1 Axes>"
      ]
     },
     "metadata": {},
     "output_type": "display_data"
    }
   ],
   "source": [
    "plot_metric(history.history['accuracy'], history.history['val_accuracy'], 'accuracy')"
   ]
  },
  {
   "cell_type": "markdown",
   "id": "47c2758a",
   "metadata": {
    "id": "47c2758a"
   },
   "source": [
    "### Реалізація граф-дороги"
   ]
  },
  {
   "cell_type": "code",
   "execution_count": 11,
   "id": "53768ea0",
   "metadata": {
    "executionInfo": {
     "elapsed": 13,
     "status": "ok",
     "timestamp": 1697798425000,
     "user": {
      "displayName": "Yaroslav Tereschenko",
      "userId": "02603286809497678632"
     },
     "user_tz": -180
    },
    "id": "53768ea0"
   },
   "outputs": [],
   "source": [
    "n = 40\n",
    "indices = np.where((y_test != 0) & (y_test != 1))[0]\n",
    "indices = np.random.choice(indices, n, replace=False)"
   ]
  },
  {
   "cell_type": "code",
   "execution_count": 12,
   "id": "ad271a52",
   "metadata": {
    "executionInfo": {
     "elapsed": 12,
     "status": "ok",
     "timestamp": 1697798425000,
     "user": {
      "displayName": "Yaroslav Tereschenko",
      "userId": "02603286809497678632"
     },
     "user_tz": -180
    },
    "id": "ad271a52"
   },
   "outputs": [],
   "source": [
    "rand_images = list(x_test[indices])\n",
    "rand_labels = list(y_test[indices])"
   ]
  },
  {
   "cell_type": "code",
   "execution_count": 13,
   "id": "905d316e",
   "metadata": {
    "executionInfo": {
     "elapsed": 13,
     "status": "ok",
     "timestamp": 1697798425001,
     "user": {
      "displayName": "Yaroslav Tereschenko",
      "userId": "02603286809497678632"
     },
     "user_tz": -180
    },
    "id": "905d316e"
   },
   "outputs": [],
   "source": [
    "class Graph:\n",
    "    def __init__(self, vertices=25, edges_to_remove=10):\n",
    "        self.vertices = vertices\n",
    "        self.width = int(vertices ** 0.5)\n",
    "        self.structure = {i: [] for i in range(vertices)}\n",
    "        self._form_structure()\n",
    "        self._remove_edges(edges_to_remove)\n",
    "        self._coords = {}\n",
    "        self._calc_coords()\n",
    "        self.edges = {}\n",
    "        self._set_speed_limits(rand_images, rand_labels)\n",
    "\n",
    "    def _form_structure(self):\n",
    "        for i in range(self.vertices-1):\n",
    "            if (i+1) % self.width != 0:\n",
    "                self.structure[i].append(i+1)\n",
    "                self.structure[i+1].append(i)\n",
    "            if i < (self.vertices - self.width):\n",
    "                self.structure[i].append(i+self.width)\n",
    "                self.structure[i+self.width].append(i)\n",
    "\n",
    "    def _calc_coords(self):\n",
    "        for i in range(self.width):\n",
    "            for t in range(self.width):\n",
    "                self._coords[t+(i*5)] = [i, t]\n",
    "\n",
    "    def _add_edge(self, v1, v2):\n",
    "        self.structure[v1].append(v2)\n",
    "        self.structure[v2].append(v1)\n",
    "\n",
    "    def _delete_edge(self, v1, v2):\n",
    "        self.structure[v1].remove(v2)\n",
    "        self.structure[v2].remove(v1)\n",
    "\n",
    "    def _is_connected(self):\n",
    "        not_visited = [i for i in range(self.vertices)]\n",
    "        queue = [0]\n",
    "\n",
    "        while queue:\n",
    "            s = queue.pop(0)\n",
    "            for neighbor in self.structure[s]:\n",
    "                if neighbor in not_visited:\n",
    "                    not_visited.remove(neighbor)\n",
    "                    queue.append(neighbor)\n",
    "\n",
    "        return not bool(not_visited)\n",
    "\n",
    "    def _remove_edges(self, count):\n",
    "        i = 0\n",
    "        while i < count:\n",
    "            vertex = random.randint(0, len(self.structure)-1)\n",
    "            if len(self.structure[vertex])-1 == 0:\n",
    "                continue\n",
    "            neighbor = random.randint(0, len(self.structure[vertex])-1)\n",
    "            neighbor = self.structure[vertex][neighbor]\n",
    "\n",
    "            self._delete_edge(vertex, neighbor)\n",
    "            if not self._is_connected():\n",
    "                self._add_edge(vertex, neighbor)\n",
    "            else:\n",
    "                i += 1\n",
    "\n",
    "    def _set_speed_limits(self, images, labels):\n",
    "        cimages, clabels = images.copy(), labels.copy()\n",
    "        for key, value in self.structure.items():\n",
    "            for i in value:\n",
    "                if ((key, i) not in self.edges) and \\\n",
    "                   ((i, key) not in self.edges):\n",
    "                    self.edges[(key, i)] = [cimages.pop(), clabels.pop()]\n",
    "\n",
    "    def get_neighs(self, vert):\n",
    "        a = {}\n",
    "        for i in self.structure[vert]:\n",
    "            a[i] = self._coords[i]\n",
    "        return a\n",
    "\n",
    "    def get_coords(self, vertex):\n",
    "        return self._coords[vertex]"
   ]
  },
  {
   "cell_type": "markdown",
   "id": "03526329",
   "metadata": {
    "id": "03526329"
   },
   "source": [
    "### Реалізація агента"
   ]
  },
  {
   "cell_type": "code",
   "execution_count": 14,
   "id": "113538f9",
   "metadata": {
    "executionInfo": {
     "elapsed": 12,
     "status": "ok",
     "timestamp": 1697798425001,
     "user": {
      "displayName": "Yaroslav Tereschenko",
      "userId": "02603286809497678632"
     },
     "user_tz": -180
    },
    "id": "113538f9"
   },
   "outputs": [],
   "source": [
    "def best_route(agent, routes, best=float('inf'), vert=None, parent=None):\n",
    "    for route in routes:\n",
    "        if (route not in agent.hist) and (route != agent.pos):\n",
    "            x, y = agent.road.get_coords(route)\n",
    "            dist = abs(x - agent.des_crds[0]) + abs(y - agent.des_crds[1])\n",
    "            if dist < best:\n",
    "                best = dist\n",
    "                vert = parent if (parent is not None) else route\n",
    "\n",
    "            if isinstance(routes, dict):\n",
    "                best, vert = best_route(agent, routes[route], best, vert, route)\n",
    "\n",
    "    return best, vert"
   ]
  },
  {
   "cell_type": "code",
   "execution_count": 15,
   "id": "ab472fb5",
   "metadata": {
    "executionInfo": {
     "elapsed": 12,
     "status": "ok",
     "timestamp": 1697798425001,
     "user": {
      "displayName": "Yaroslav Tereschenko",
      "userId": "02603286809497678632"
     },
     "user_tz": -180
    },
    "id": "ab472fb5"
   },
   "outputs": [],
   "source": [
    "class Agent():\n",
    "    def __init__(self, pos, des, road):\n",
    "        self.pos = pos\n",
    "        self.des = des\n",
    "        self.des_crds = road.get_coords(des)\n",
    "        self.road = road\n",
    "        self.routes = {}\n",
    "        self.hist = []\n",
    "        self.map = []\n",
    "        self.speed_hist = []\n",
    "\n",
    "    def _tell(self):\n",
    "        neighs = self.road.get_neighs(self.pos)\n",
    "        self.routes = {}\n",
    "        for i in neighs:\n",
    "            self.routes[i] = list(self.road.get_neighs(i).keys())\n",
    "\n",
    "    def _ask(self):\n",
    "        _, vert = best_route(self, self.routes)\n",
    "        return vert\n",
    "\n",
    "    def _do(self, vert):\n",
    "        if vert is None:\n",
    "            vert = self.map[-1]\n",
    "            self.map.pop()\n",
    "        else:\n",
    "            self.map.append(self.pos)\n",
    "\n",
    "        if (self.pos, vert) in self.road.edges:\n",
    "            speed_sign = self.road.edges[(self.pos, vert)][0]\n",
    "        else:\n",
    "            speed_sign = self.road.edges[(vert, self.pos)][0]\n",
    "        speed = np.argmax(model.predict(speed_sign.reshape(1, 28, 28, 1), verbose=False))\n",
    "\n",
    "        self.speed_hist.append(speed)\n",
    "        self.hist.append(self.pos)\n",
    "        self.pos = vert\n",
    "\n",
    "    def move(self):\n",
    "        while self.pos != self.des:\n",
    "            self._tell()\n",
    "            vert = self._ask()\n",
    "            self._do(vert)\n",
    "        self.hist.append(self.pos)"
   ]
  },
  {
   "cell_type": "markdown",
   "id": "d413aa83",
   "metadata": {
    "id": "d413aa83"
   },
   "source": [
    "### Функції для графічного відображення граф-дороги та шляху агента"
   ]
  },
  {
   "cell_type": "code",
   "execution_count": 16,
   "id": "4ce51490",
   "metadata": {
    "executionInfo": {
     "elapsed": 13,
     "status": "ok",
     "timestamp": 1697798425002,
     "user": {
      "displayName": "Yaroslav Tereschenko",
      "userId": "02603286809497678632"
     },
     "user_tz": -180
    },
    "id": "4ce51490"
   },
   "outputs": [],
   "source": [
    "def draw_graph(graph):\n",
    "    fig, ax = plt.subplots()\n",
    "    ax.set_aspect('equal', 'box')\n",
    "\n",
    "    coords = []\n",
    "    for i in range(graph.width):\n",
    "        for t in range(graph.width):\n",
    "            coords.append([(i+1)*50,(t+1)*50])\n",
    "            circle = Circle(((i+1)*50, (t+1)*50), 8, fill=True, color='black')\n",
    "            ax.add_patch(circle)\n",
    "            ax.text((i+1)*50, (t+1)*50, t+(i*5),\n",
    "                    fontsize=10, color='white', ha='center', va='center')\n",
    "\n",
    "    for i in graph.structure:\n",
    "        for t in graph.structure[i]:\n",
    "            line = Line2D([coords[i][0], coords[t][0]],\n",
    "                          [coords[i][1], coords[t][1]],\n",
    "                          color='black', linewidth=1)\n",
    "            ax.add_line(line)\n",
    "\n",
    "            if (i, t) not in graph.edges:\n",
    "                continue\n",
    "            value = graph.edges[(i, t)][1]\n",
    "            if coords[i][0] == coords[t][0]:\n",
    "                y_crd = coords[i][1] + (coords[t][1] - coords[i][1]) / 2\n",
    "                ax.text(coords[i][0]+5, y_crd, f'{value}',\n",
    "                        fontsize=10, color='blue', ha='center', va='center')\n",
    "            elif coords[i][1] == coords[t][1]:\n",
    "                x_crd = coords[i][0] + (coords[t][0] - coords[i][0]) / 2\n",
    "                ax.text(x_crd, coords[i][1]+5, f'{value}',\n",
    "                        fontsize=10, color='blue', ha='center', va='center')\n",
    "\n",
    "    ax.plot()\n",
    "    ax.axis('off')\n",
    "    plt.show()\n",
    "\n",
    "    return coords"
   ]
  },
  {
   "cell_type": "code",
   "execution_count": 17,
   "id": "9ab999fa",
   "metadata": {
    "executionInfo": {
     "elapsed": 12,
     "status": "ok",
     "timestamp": 1697798425002,
     "user": {
      "displayName": "Yaroslav Tereschenko",
      "userId": "02603286809497678632"
     },
     "user_tz": -180
    },
    "id": "9ab999fa"
   },
   "outputs": [],
   "source": [
    "def draw_agent(agent, coords):\n",
    "    print('Initial vertex:', agent.hist[0])\n",
    "    print('Final vertex:', agent.hist[-1])\n",
    "    print('Steps:', len(agent.hist)-1)\n",
    "    print('Way:', end=' ')\n",
    "    for i in agent.hist:\n",
    "        print(i, end=f'{\"\" if i == agent.hist[-1] else \" -> \"}')\n",
    "    print('\\nSpeed limits:', end=' ')\n",
    "    for i in agent.speed_hist:\n",
    "        print(f'{i}0km/h', end='  ')\n",
    "    print('\\n')\n",
    "\n",
    "    fig, ax = plt.subplots()\n",
    "    ax.set_aspect('equal', 'box')\n",
    "\n",
    "    pairs = [(agent.hist[i], agent.hist[i+1]) for i in range(len(agent.hist)-1)]\n",
    "    pairs.append((agent.des, agent.des))\n",
    "\n",
    "    i = 0\n",
    "    for a, b in pairs:\n",
    "        line = Line2D([coords[a][0], coords[b][0]],\n",
    "                        [coords[a][1], coords[b][1]], color='black', linewidth=1)\n",
    "        ax.add_line(line)\n",
    "        x, y = coords[a]\n",
    "        circle = Circle((x, y), 8, fill=True, color='black')\n",
    "        ax.add_patch(circle)\n",
    "        ax.text(x, y, a, fontsize=10, color='white', ha='center', va='center')\n",
    "\n",
    "        if a == b:\n",
    "            continue\n",
    "        if coords[a][0] == coords[b][0]:\n",
    "            y_crd = coords[a][1] + (coords[b][1] - coords[a][1]) / 2\n",
    "            ax.text(coords[a][0]+5, y_crd, f'{agent.speed_hist[i]}',\n",
    "                    fontsize=10, color='blue', ha='center', va='center')\n",
    "        elif coords[a][1] == coords[b][1]:\n",
    "            x_crd = coords[a][0] + (coords[b][0] - coords[a][0]) / 2\n",
    "            ax.text(x_crd, coords[a][1]+5, f'{agent.speed_hist[i]}',\n",
    "                    fontsize=10, color='blue', ha='center', va='center')\n",
    "        i += 1\n",
    "\n",
    "    ax.plot()\n",
    "    ax.axis('off')\n",
    "    plt.show()"
   ]
  },
  {
   "cell_type": "markdown",
   "id": "30fc154b",
   "metadata": {
    "id": "30fc154b"
   },
   "source": [
    "### Тестування роботи"
   ]
  },
  {
   "cell_type": "code",
   "execution_count": 18,
   "id": "-CTmIn3pcePz",
   "metadata": {
    "colab": {
     "base_uri": "https://localhost:8080/",
     "height": 406
    },
    "executionInfo": {
     "elapsed": 766,
     "status": "ok",
     "timestamp": 1697798425755,
     "user": {
      "displayName": "Yaroslav Tereschenko",
      "userId": "02603286809497678632"
     },
     "user_tz": -180
    },
    "id": "-CTmIn3pcePz",
    "outputId": "681f3546-2d4a-4669-db33-6dea952aeef1"
   },
   "outputs": [
    {
     "data": {
      "image/png": "[encoded data removed]",
      "text/plain": [
       "<Figure size 640x480 with 1 Axes>"
      ]
     },
     "metadata": {},
     "output_type": "display_data"
    }
   ],
   "source": [
    "graph = Graph()\n",
    "crds = draw_graph(graph)"
   ]
  },
  {
   "cell_type": "code",
   "execution_count": 19,
   "id": "Fev5gYndcffO",
   "metadata": {
    "colab": {
     "base_uri": "https://localhost:8080/",
     "height": 510
    },
    "executionInfo": {
     "elapsed": 23,
     "status": "ok",
     "timestamp": 1697798425756,
     "user": {
      "displayName": "Yaroslav Tereschenko",
      "userId": "02603286809497678632"
     },
     "user_tz": -180
    },
    "id": "Fev5gYndcffO",
    "outputId": "1d7beef9-a9f6-4e63-b5e4-af4d31684e97"
   },
   "outputs": [
    {
     "name": "stdout",
     "output_type": "stream",
     "text": [
      "Initial vertex: 0\n",
      "Final vertex: 24\n",
      "Steps: 8\n",
      "Way: 0 -> 5 -> 6 -> 7 -> 8 -> 13 -> 14 -> 19 -> 24\n",
      "Speed limits: 80km/h  50km/h  70km/h  40km/h  70km/h  80km/h  80km/h  80km/h  \n",
      "\n"
     ]
    },
    {
     "data": {
      "image/png": "[encoded data removed]",
      "text/plain": [
       "<Figure size 640x480 with 1 Axes>"
      ]
     },
     "metadata": {},
     "output_type": "display_data"
    }
   ],
   "source": [
    "rand = False\n",
    "a = random.randint(0, 24) if rand else 0\n",
    "b = random.randint(0, 24) if rand else 24\n",
    "\n",
    "agent = Agent(a, b, graph)\n",
    "agent.move()\n",
    "\n",
    "draw_agent(agent, crds)"
   ]
  },
  {
   "cell_type": "markdown",
   "id": "8c1ginFzpFnK",
   "metadata": {
    "id": "8c1ginFzpFnK"
   },
   "source": [
    "#### Висновок\n",
    "Під час виконання лабораторної роботи я отримав практичні навички роботи з нейронними мережами та вирішення проблеми класифікації зображень шляхом удосконалення інтелектуального агента-автомобіля з попередніх робіт, додавши йому систему контролю швидкості на основі згорткової нейронної мережі"
   ]
  },
  {
   "cell_type": "code",
   "execution_count": 19,
   "id": "dY2eie-8pf1a",
   "metadata": {
    "executionInfo": {
     "elapsed": 17,
     "status": "ok",
     "timestamp": 1697798425757,
     "user": {
      "displayName": "Yaroslav Tereschenko",
      "userId": "02603286809497678632"
     },
     "user_tz": -180
    },
    "id": "dY2eie-8pf1a"
   },
   "outputs": [],
   "source": []
  }
 ],
 "metadata": {
  "accelerator": "GPU",
  "colab": {
   "gpuType": "T4",
   "provenance": []
  },
  "kernelspec": {
   "display_name": "Python 3 (ipykernel)",
   "language": "python",
   "name": "python3"
  },
  "language_info": {
   "codemirror_mode": {
    "name": "ipython",
    "version": 3
   },
   "file_extension": ".py",
   "mimetype": "text/x-python",
   "name": "python",
   "nbconvert_exporter": "python",
   "pygments_lexer": "ipython3",
   "version": "3.11.5"
  }
 },
 "nbformat": 4,
 "nbformat_minor": 5
}
