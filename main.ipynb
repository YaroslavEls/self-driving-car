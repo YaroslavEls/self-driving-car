{
 "cells": [
  {
   "cell_type": "code",
   "execution_count": 9,
   "id": "cd585ece",
   "metadata": {},
   "outputs": [],
   "source": [
    "import random\n",
    "from graphics import *"
   ]
  },
  {
   "cell_type": "code",
   "execution_count": 10,
   "id": "905d316e",
   "metadata": {},
   "outputs": [],
   "source": [
    "class Graph:\n",
    "    def __init__(self, vertices=25, edges_to_remove=10):\n",
    "        self.vertices = vertices\n",
    "        self.width = int(vertices ** 0.5)\n",
    "        self.structure = {i: [] for i in range(vertices)}\n",
    "        self._form_structure()\n",
    "        self._remove_edges(edges_to_remove)\n",
    "        \n",
    "    def _form_structure(self):\n",
    "        for i in range(self.vertices-1):\n",
    "            if (i+1) % self.width != 0:\n",
    "                self.structure[i].append(i+1)\n",
    "                self.structure[i+1].append(i)\n",
    "            if i < (self.vertices - self.width):\n",
    "                self.structure[i].append(i+self.width)\n",
    "                self.structure[i+self.width].append(i)\n",
    "\n",
    "    def _add_edge(self, v1, v2):\n",
    "        self.structure[v1].append(v2)\n",
    "        self.structure[v2].append(v1)\n",
    "\n",
    "    def _delete_edge(self, v1, v2):\n",
    "        self.structure[v1].remove(v2)\n",
    "        self.structure[v2].remove(v1)\n",
    "\n",
    "    def is_connected(self):\n",
    "        not_visited = [i for i in range(self.vertices)]\n",
    "        queue = [0]\n",
    "\n",
    "        while queue:\n",
    "            s = queue.pop(0)\n",
    "            for neighbor in self.structure[s]:\n",
    "                if neighbor in not_visited:\n",
    "                    not_visited.remove(neighbor)\n",
    "                    queue.append(neighbor)\n",
    "\n",
    "        return not bool(not_visited)\n",
    "\n",
    "    def _remove_edges(self, count):\n",
    "        i = 0\n",
    "        while i < count:\n",
    "            vertex = random.randint(0, len(self.structure)-1)\n",
    "            if len(self.structure[vertex])-1 == 0:\n",
    "                continue\n",
    "            neighbor = random.randint(0, len(self.structure[vertex])-1)\n",
    "            neighbor = self.structure[vertex][neighbor]\n",
    "\n",
    "            self._delete_edge(vertex, neighbor)\n",
    "            if not self.is_connected():\n",
    "                self._add_edge(vertex, neighbor)\n",
    "            else:\n",
    "                i += 1\n",
    "                \n",
    "    def draw(self, window):\n",
    "        circles = []\n",
    "        for i in range(self.width):\n",
    "            for t in range(self.width):\n",
    "                circles.append(Point((i+1)*50,(t+1)*50))\n",
    "                Circle(Point((i+1)*50,(t+1)*50), 8).draw(window)\n",
    "\n",
    "        for i in self.structure:\n",
    "            for t in self.structure[i]:\n",
    "                Line(circles[i], circles[t]).draw(window)"
   ]
  },
  {
   "cell_type": "code",
   "execution_count": 11,
   "id": "70bd050e",
   "metadata": {},
   "outputs": [],
   "source": [
    "def main():\n",
    "    graph = Graph()\n",
    "    win = GraphWin(\"graph\", 500, 500)\n",
    "    graph.draw(win)\n",
    "    input('submit input (press \"enter\") to exit')\n",
    "    win.close()"
   ]
  },
  {
   "cell_type": "code",
   "execution_count": 12,
   "id": "7809f82d",
   "metadata": {},
   "outputs": [
    {
     "name": "stdout",
     "output_type": "stream",
     "text": [
      "submit input (press \"enter\") to exit\n"
     ]
    }
   ],
   "source": [
    "main()"
   ]
  },
  {
   "cell_type": "code",
   "execution_count": null,
   "id": "547d61b4",
   "metadata": {},
   "outputs": [],
   "source": []
  }
 ],
 "metadata": {
  "kernelspec": {
   "display_name": "Python 3 (ipykernel)",
   "language": "python",
   "name": "python3"
  },
  "language_info": {
   "codemirror_mode": {
    "name": "ipython",
    "version": 3
   },
   "file_extension": ".py",
   "mimetype": "text/x-python",
   "name": "python",
   "nbconvert_exporter": "python",
   "pygments_lexer": "ipython3",
   "version": "3.10.4"
  }
 },
 "nbformat": 4,
 "nbformat_minor": 5
}
