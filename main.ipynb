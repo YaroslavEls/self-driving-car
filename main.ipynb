{
 "cells": [
  {
   "cell_type": "code",
   "execution_count": 75,
   "id": "cd585ece",
   "metadata": {},
   "outputs": [],
   "source": [
    "import random\n",
    "from ipycanvas import Canvas"
   ]
  },
  {
   "cell_type": "code",
   "execution_count": 76,
   "id": "905d316e",
   "metadata": {},
   "outputs": [],
   "source": [
    "class Graph:\n",
    "    def __init__(self, vertices=25, edges_to_remove=10):\n",
    "        self.vertices = vertices\n",
    "        self.width = int(vertices ** 0.5)\n",
    "        self.structure = {i: [] for i in range(vertices)}\n",
    "        self._form_structure()\n",
    "        self._remove_edges(edges_to_remove)\n",
    "        \n",
    "    def _form_structure(self):\n",
    "        for i in range(self.vertices-1):\n",
    "            if (i+1) % self.width != 0:\n",
    "                self.structure[i].append(i+1)\n",
    "                self.structure[i+1].append(i)\n",
    "            if i < (self.vertices - self.width):\n",
    "                self.structure[i].append(i+self.width)\n",
    "                self.structure[i+self.width].append(i)\n",
    "\n",
    "    def _add_edge(self, v1, v2):\n",
    "        self.structure[v1].append(v2)\n",
    "        self.structure[v2].append(v1)\n",
    "\n",
    "    def _delete_edge(self, v1, v2):\n",
    "        self.structure[v1].remove(v2)\n",
    "        self.structure[v2].remove(v1)\n",
    "\n",
    "    def is_connected(self):\n",
    "        not_visited = [i for i in range(self.vertices)]\n",
    "        queue = [0]\n",
    "\n",
    "        while queue:\n",
    "            s = queue.pop(0)\n",
    "            for neighbor in self.structure[s]:\n",
    "                if neighbor in not_visited:\n",
    "                    not_visited.remove(neighbor)\n",
    "                    queue.append(neighbor)\n",
    "\n",
    "        return not bool(not_visited)\n",
    "\n",
    "    def _remove_edges(self, count):\n",
    "        i = 0\n",
    "        while i < count:\n",
    "            vertex = random.randint(0, len(self.structure)-1)\n",
    "            if len(self.structure[vertex])-1 == 0:\n",
    "                continue\n",
    "            neighbor = random.randint(0, len(self.structure[vertex])-1)\n",
    "            neighbor = self.structure[vertex][neighbor]\n",
    "\n",
    "            self._delete_edge(vertex, neighbor)\n",
    "            if not self.is_connected():\n",
    "                self._add_edge(vertex, neighbor)\n",
    "            else:\n",
    "                i += 1\n",
    "                \n",
    "    def draw(self, canv):\n",
    "        coords = []\n",
    "        for i in range(self.width):\n",
    "            for t in range(self.width):\n",
    "                coords.append([(i+1)*50,(t+1)*50])\n",
    "                canv.fill_circle((i+1)*50, (t+1)*50, 8)\n",
    "        for i in self.structure:\n",
    "            for t in self.structure[i]:\n",
    "                canvas.stroke_line(coords[i][0], coords[i][1], coords[t][0], coords[t][1])\n",
    "        return canv"
   ]
  },
  {
   "cell_type": "code",
   "execution_count": 77,
   "id": "70bd050e",
   "metadata": {},
   "outputs": [
    {
     "data": {
      "application/vnd.jupyter.widget-view+json": {
       "model_id": "9df0a0ea38494098bab2c9dd12def66d",
       "version_major": 2,
       "version_minor": 0
      },
      "text/plain": [
       "Canvas(height=300, width=300)"
      ]
     },
     "execution_count": 77,
     "metadata": {},
     "output_type": "execute_result"
    }
   ],
   "source": [
    "graph = Graph()\n",
    "canvas = Canvas(width=300, height=300)\n",
    "graph.draw(canvas)"
   ]
  },
  {
   "cell_type": "code",
   "execution_count": null,
   "id": "7809f82d",
   "metadata": {},
   "outputs": [],
   "source": []
  }
 ],
 "metadata": {
  "kernelspec": {
   "display_name": "Python 3 (ipykernel)",
   "language": "python",
   "name": "python3"
  },
  "language_info": {
   "codemirror_mode": {
    "name": "ipython",
    "version": 3
   },
   "file_extension": ".py",
   "mimetype": "text/x-python",
   "name": "python",
   "nbconvert_exporter": "python",
   "pygments_lexer": "ipython3",
   "version": "3.10.4"
  }
 },
 "nbformat": 4,
 "nbformat_minor": 5
}
