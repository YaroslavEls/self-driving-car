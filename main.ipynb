{
 "cells": [
  {
   "cell_type": "code",
   "execution_count": 1,
   "id": "cd585ece",
   "metadata": {},
   "outputs": [],
   "source": [
    "import random\n",
    "from ipycanvas import Canvas"
   ]
  },
  {
   "cell_type": "code",
   "execution_count": 2,
   "id": "905d316e",
   "metadata": {},
   "outputs": [],
   "source": [
    "class Graph:\n",
    "    def __init__(self, vertices=25, edges_to_remove=10):\n",
    "        self.vertices = vertices\n",
    "        self.width = int(vertices ** 0.5)\n",
    "        self.structure = {i: [] for i in range(vertices)}\n",
    "        self._form_structure()\n",
    "        self._remove_edges(edges_to_remove)\n",
    "        self._coords = {}\n",
    "        self._calc_coords()\n",
    "        \n",
    "    def _form_structure(self):\n",
    "        for i in range(self.vertices-1):\n",
    "            if (i+1) % self.width != 0:\n",
    "                self.structure[i].append(i+1)\n",
    "                self.structure[i+1].append(i)\n",
    "            if i < (self.vertices - self.width):\n",
    "                self.structure[i].append(i+self.width)\n",
    "                self.structure[i+self.width].append(i)\n",
    "                \n",
    "    def _calc_coords(self):\n",
    "        for i in range(self.width):\n",
    "            for t in range(self.width):\n",
    "                self._coords[t+(i*5)] = [i, t]\n",
    "\n",
    "    def _add_edge(self, v1, v2):\n",
    "        self.structure[v1].append(v2)\n",
    "        self.structure[v2].append(v1)\n",
    "\n",
    "    def _delete_edge(self, v1, v2):\n",
    "        self.structure[v1].remove(v2)\n",
    "        self.structure[v2].remove(v1)\n",
    "\n",
    "    def is_connected(self):\n",
    "        not_visited = [i for i in range(self.vertices)]\n",
    "        queue = [0]\n",
    "\n",
    "        while queue:\n",
    "            s = queue.pop(0)\n",
    "            for neighbor in self.structure[s]:\n",
    "                if neighbor in not_visited:\n",
    "                    not_visited.remove(neighbor)\n",
    "                    queue.append(neighbor)\n",
    "\n",
    "        return not bool(not_visited)\n",
    "\n",
    "    def _remove_edges(self, count):\n",
    "        i = 0\n",
    "        while i < count:\n",
    "            vertex = random.randint(0, len(self.structure)-1)\n",
    "            if len(self.structure[vertex])-1 == 0:\n",
    "                continue\n",
    "            neighbor = random.randint(0, len(self.structure[vertex])-1)\n",
    "            neighbor = self.structure[vertex][neighbor]\n",
    "\n",
    "            self._delete_edge(vertex, neighbor)\n",
    "            if not self.is_connected():\n",
    "                self._add_edge(vertex, neighbor)\n",
    "            else:\n",
    "                i += 1\n",
    "                \n",
    "    def draw(self, canv):\n",
    "        coords = []\n",
    "        for i in range(self.width):\n",
    "            for t in range(self.width):\n",
    "                coords.append([(i+1)*50,(t+1)*50])\n",
    "                canv.fill_circle((i+1)*50, (t+1)*50, 8)\n",
    "                canv.fill_style = \"brown\"\n",
    "                canv.font = \"16px sans-serif \"\n",
    "                canv.fill_text(t+(i*5), (i+1)*50+5, (t+1)*50-5)\n",
    "                canv.fill_style = \"black\"\n",
    "        for i in self.structure:\n",
    "            for t in self.structure[i]:\n",
    "                canv.stroke_line(coords[i][0], coords[i][1], coords[t][0], coords[t][1])\n",
    "        return canv, coords  \n",
    "        \n",
    "    def get_neighs(self, vert):\n",
    "        a = {}\n",
    "        for i in self.structure[vert]:\n",
    "            a[i] = self._coords[i]\n",
    "        return a\n",
    "    \n",
    "    def get_coords(self, vertex):\n",
    "        return self._coords[vertex]"
   ]
  },
  {
   "cell_type": "code",
   "execution_count": 3,
   "id": "27d2e131",
   "metadata": {},
   "outputs": [],
   "source": [
    "def neighs_check(a, bs, c):\n",
    "    x_ac = abs(c[0] - a[0])\n",
    "    y_ac = abs(c[1] - a[1])\n",
    "    closer, farther = set(), set()\n",
    "    \n",
    "    for key, value in bs:\n",
    "        x_bc = abs(c[0] - value[0])\n",
    "        y_bc = abs(c[1] - value[1])\n",
    "\n",
    "        if (x_bc < x_ac) or (y_bc < y_ac):\n",
    "            closer.add(key)\n",
    "        else:\n",
    "            farther.add(key)\n",
    "            \n",
    "    return closer, farther"
   ]
  },
  {
   "cell_type": "code",
   "execution_count": 4,
   "id": "e9c50484",
   "metadata": {},
   "outputs": [],
   "source": [
    "def best_way(arr1, arr2):\n",
    "    for i in arr1:\n",
    "        for t in arr2:\n",
    "            inter = i.intersection(t)\n",
    "            if inter:\n",
    "                return inter.pop()"
   ]
  },
  {
   "cell_type": "code",
   "execution_count": 5,
   "id": "7809f82d",
   "metadata": {},
   "outputs": [],
   "source": [
    "class Agent():\n",
    "    def __init__(self, pos, des, road):\n",
    "        self.pos = pos\n",
    "        self.des = des\n",
    "        self.road = road\n",
    "        self.neighs = road.get_neighs(pos)\n",
    "        self.map = {pos: []}\n",
    "        self.hist = []\n",
    "\n",
    "    def _step(self, vert):\n",
    "        if vert not in self.map[self.pos]:\n",
    "            self.map[self.pos].append(vert)\n",
    "            \n",
    "        self.hist.append([self.pos, vert])\n",
    "        self.pos = vert\n",
    "        self.neighs = self.road.get_neighs(self.pos)\n",
    "        \n",
    "        if self.pos not in self.map:\n",
    "            self.map[self.pos] = []\n",
    "\n",
    "    def _choose_way(self):\n",
    "        if sorted(self.neighs.keys()) == sorted(self.map[self.pos]):\n",
    "            self.map[self.pos] = []\n",
    "            \n",
    "        pr1, pr2 = set(), set()\n",
    "        \n",
    "        for i in self.neighs.keys():\n",
    "            if i not in self.map.keys():\n",
    "                pr1.add(i)\n",
    "            elif i not in self.map[self.pos]:\n",
    "                pr2.add(i)\n",
    "                \n",
    "        a = self.road.get_coords(self.pos)\n",
    "        c = self.road.get_coords(self.des)\n",
    "        cl, fr = neighs_check(a, self.neighs.items(), c)\n",
    "        \n",
    "        return best_way([pr1, pr2], [cl, fr])\n",
    "\n",
    "    def move(self):\n",
    "        while self.pos != self.des:\n",
    "            vert = self._choose_way()\n",
    "            self._step(vert)\n",
    "\n",
    "    def draw(self, canv, coords):\n",
    "        canv.fill_style = \"orange\"\n",
    "        for i in self.map:\n",
    "            for t in self.map[i]:\n",
    "                canv.stroke_line(coords[i][0], coords[i][1], coords[t][0], coords[t][1])\n",
    "            x, y = coords[i]\n",
    "            canv.fill_circle(x, y, 8)\n",
    "            canv.fill_style = \"brown\"\n",
    "            canv.font = \"16px sans-serif \"\n",
    "            canv.fill_text(i, x+5, y-5)\n",
    "            canv.fill_style = \"black\"\n",
    "        canv.fill_style = \"blue\"\n",
    "        x, y = coords[self.pos]\n",
    "        canv.fill_circle(x, y, 8)\n",
    "        canv.fill_style = \"black\"\n",
    "        return canv"
   ]
  },
  {
   "cell_type": "code",
   "execution_count": 6,
   "id": "dcf43359",
   "metadata": {},
   "outputs": [
    {
     "data": {
      "application/vnd.jupyter.widget-view+json": {
       "model_id": "4ef52e79602040d98ab8ad038da0cdc6",
       "version_major": 2,
       "version_minor": 0
      },
      "text/plain": [
       "Canvas(height=300, width=300)"
      ]
     },
     "execution_count": 6,
     "metadata": {},
     "output_type": "execute_result"
    }
   ],
   "source": [
    "graph = Graph()\n",
    "# print(graph.structure)\n",
    "canvas1 = Canvas(width=300, height=300)\n",
    "canvas1, crds = graph.draw(canvas1)\n",
    "canvas1"
   ]
  },
  {
   "cell_type": "code",
   "execution_count": 10,
   "id": "2f3ba175",
   "metadata": {
    "scrolled": false
   },
   "outputs": [
    {
     "name": "stdout",
     "output_type": "stream",
     "text": [
      "Initial vertex: 18 (orange)\n",
      "Final vertex: 6 (blue)\n",
      "Steps: 4\n",
      "Way:\n",
      "18 -> 17 -> 16 -> 11 -> 6\n"
     ]
    },
    {
     "data": {
      "application/vnd.jupyter.widget-view+json": {
       "model_id": "eead8af6b09b434ca35f7450ee0a4a9e",
       "version_major": 2,
       "version_minor": 0
      },
      "text/plain": [
       "Canvas(height=300, width=300)"
      ]
     },
     "execution_count": 10,
     "metadata": {},
     "output_type": "execute_result"
    }
   ],
   "source": [
    "# a = random.randint(0, 24)\n",
    "# b = random.randint(0, 24)\n",
    "a = 0\n",
    "b = 24\n",
    "\n",
    "agent = Agent(a, b, graph)\n",
    "agent.move()\n",
    "\n",
    "print('Initial vertex:', a, '(orange)')\n",
    "print('Final vertex:', b, '(blue)')\n",
    "print('Steps:', len(agent.hist))\n",
    "print('Way:')\n",
    "for i in agent.hist:\n",
    "    print(i[0], '->', end=' ')\n",
    "print(agent.hist[len(agent.hist)-1][1])\n",
    "\n",
    "canvas2 = Canvas(width=300, height=300)\n",
    "agent.draw(canvas2, crds)"
   ]
  },
  {
   "cell_type": "code",
   "execution_count": null,
   "id": "dfe1196a",
   "metadata": {},
   "outputs": [],
   "source": []
  }
 ],
 "metadata": {
  "kernelspec": {
   "display_name": "Python 3 (ipykernel)",
   "language": "python",
   "name": "python3"
  },
  "language_info": {
   "codemirror_mode": {
    "name": "ipython",
    "version": 3
   },
   "file_extension": ".py",
   "mimetype": "text/x-python",
   "name": "python",
   "nbconvert_exporter": "python",
   "pygments_lexer": "ipython3",
   "version": "3.10.4"
  }
 },
 "nbformat": 4,
 "nbformat_minor": 5
}
