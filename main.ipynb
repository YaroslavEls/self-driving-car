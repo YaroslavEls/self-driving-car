{
 "cells": [
  {
   "cell_type": "code",
   "execution_count": 1,
   "id": "cd585ece",
   "metadata": {},
   "outputs": [
    {
     "name": "stdout",
     "output_type": "stream",
     "text": [
      "importing Jupyter notebook from graph.ipynb\n",
      "importing Jupyter notebook from agent.ipynb\n"
     ]
    }
   ],
   "source": [
    "from ipycanvas import Canvas\n",
    "import import_ipynb\n",
    "from graph import Graph\n",
    "from agent import Agent"
   ]
  },
  {
   "cell_type": "code",
   "execution_count": 2,
   "id": "dcf43359",
   "metadata": {},
   "outputs": [
    {
     "data": {
      "application/vnd.jupyter.widget-view+json": {
       "model_id": "a7828f3eb99b40fcb74256cd4ab0bb28",
       "version_major": 2,
       "version_minor": 0
      },
      "text/plain": [
       "Canvas(height=300, width=300)"
      ]
     },
     "execution_count": 2,
     "metadata": {},
     "output_type": "execute_result"
    }
   ],
   "source": [
    "graph = Graph(edges_to_remove=10)\n",
    "canvas1 = Canvas(width=300, height=300)\n",
    "canvas1, crds = graph.draw(canvas1)\n",
    "canvas1"
   ]
  },
  {
   "cell_type": "code",
   "execution_count": 3,
   "id": "2f3ba175",
   "metadata": {
    "scrolled": false
   },
   "outputs": [
    {
     "name": "stdout",
     "output_type": "stream",
     "text": [
      "Initial vertex: 0 (orange)\n",
      "Final vertex: 24 (blue)\n",
      "Steps: 10\n",
      "Way:\n",
      "0 -> 5 -> 10 -> 15 -> 16 -> 17 -> 18 -> 19 -> 18 -> 23 -> 24\n"
     ]
    },
    {
     "data": {
      "application/vnd.jupyter.widget-view+json": {
       "model_id": "43a6e10652c84ea996f483c00bd9da15",
       "version_major": 2,
       "version_minor": 0
      },
      "text/plain": [
       "Canvas(height=300, width=300)"
      ]
     },
     "execution_count": 3,
     "metadata": {},
     "output_type": "execute_result"
    }
   ],
   "source": [
    "# a = random.randint(0, 24)\n",
    "# b = random.randint(0, 24)\n",
    "a = 0\n",
    "b = 24\n",
    "\n",
    "agent = Agent(a, b, graph)\n",
    "agent.move()\n",
    "\n",
    "print('Initial vertex:', a, '(orange)')\n",
    "print('Final vertex:', b, '(blue)')\n",
    "print('Steps:', len(agent.hist))\n",
    "print('Way:')\n",
    "for i in agent.hist:\n",
    "    print(i[0], '->', end=' ')\n",
    "print(agent.hist[len(agent.hist)-1][1])\n",
    "\n",
    "canvas2 = Canvas(width=300, height=300)\n",
    "agent.draw(canvas2, crds)"
   ]
  },
  {
   "cell_type": "code",
   "execution_count": null,
   "id": "7267cd2d",
   "metadata": {},
   "outputs": [],
   "source": []
  }
 ],
 "metadata": {
  "kernelspec": {
   "display_name": "Python 3 (ipykernel)",
   "language": "python",
   "name": "python3"
  },
  "language_info": {
   "codemirror_mode": {
    "name": "ipython",
    "version": 3
   },
   "file_extension": ".py",
   "mimetype": "text/x-python",
   "name": "python",
   "nbconvert_exporter": "python",
   "pygments_lexer": "ipython3",
   "version": "3.10.4"
  }
 },
 "nbformat": 4,
 "nbformat_minor": 5
}
